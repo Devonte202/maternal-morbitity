{
  "nbformat": 4,
  "nbformat_minor": 0,
  "metadata": {
    "colab": {
      "provenance": [],
      "include_colab_link": true
    },
    "kernelspec": {
      "name": "python3",
      "display_name": "Python 3"
    }
  },
  "cells": [
    {
      "cell_type": "markdown",
      "metadata": {
        "id": "view-in-github",
        "colab_type": "text"
      },
      "source": [
        "<a href=\"https://colab.research.google.com/github/Devonte202/maternal-morbitity/blob/master/ChildBirthMortality.ipynb\" target=\"_parent\"><img src=\"https://colab.research.google.com/assets/colab-badge.svg\" alt=\"Open In Colab\"/></a>"
      ]
    },
    {
      "cell_type": "code",
      "metadata": {
        "id": "StqHf-b3z0q-",
        "colab": {
          "base_uri": "https://localhost:8080/",
          "height": 234
        },
        "outputId": "ecf01bdd-87db-4287-cf71-3ebba914ae78"
      },
      "source": [
        "exampleRow = \"        201801    12272        11                1                        30105    1                   2011011 0  011 X1  16 1                    310501101   11173 1     010002  2  4               01602   03304   01602     0311          08  051      N10000000000001111N1         66130.74    1901   231 14151     NNNNNN111111NXX111N00 111     NNNNN111111      NN 11                  NNNYNY1111110     11X111111     NNNNN 11111 1     1N2211     0941885   1    9               M 04  2017     38062    400823657 083     NNNNNN 111111 1     NNNNNN111111NNNNNN1111111     NYY1                                                                                                                                                                                                                                                                                                                                                                                                                                                                                                                                                                                                                                                                                                                                                                                                       \"\n",
        "\n",
        "raceDictionary = {\n",
        "    \"01\": \"White (only)\",\n",
        "    \"02\": \"Black (only)\",\n",
        "    \"03\": \"AIAN (only)\",\n",
        "    \"04\": \"Asian Indian (only)\",\n",
        "    \"05\": \"Chinese (only)\",\n",
        "    \"06\": \"Filipino (only)\",\n",
        "    \"07\": \"Japanese (only)\",\n",
        "    \"08\": \"Korean (only)\" \"Korean (only)\",\n",
        "    \"09\": \"Vietnamese (only)\",\n",
        "    \"10\": \"Other Asian (only)\",\n",
        "    \"11\": \"Hawaiian (only)\",\n",
        "    \"12\": \"Guamanian (only)\",\n",
        "    \"13\": \"Samoan (only)\",\n",
        "    \"14\": \"Other Pacific Islander (only)\",\n",
        "    \"15\": \"More than one race\",\n",
        "}\n",
        "\n",
        "prenatalVisitsDictionary = {\n",
        "    \"01\": \"No visits\",\n",
        "    \"02\": \"1 to 2 visits\",\n",
        "    \"03\": \"3 to 4 visits\",\n",
        "    \"04\": \"5 to 6 visits\",\n",
        "    \"05\": \"7 to 8 visits\",\n",
        "    \"06\": \"9 to 10 visits\",\n",
        "    \"07\": \"11 to 12 visits\",\n",
        "    \"08\": \"13 to 14 visits\",\n",
        "    \"09\": \"15 to 16 visits\",\n",
        "    \"10\": \"17 to 18 visits\",\n",
        "    \"11\": \"19 or more visits\",\n",
        "    \"12\": \"Unknown or not stated\",\n",
        "}\n",
        "\n",
        "mothersAgeDictionary = {\n",
        "    \"1\": \"Under 15 years\",\n",
        "    \"2\": \"15-19 years\",\n",
        "    \"3\": \"20-24 years\",\n",
        "    \"4\": \"25-29 years\",\n",
        "    \"5\": \"30-34 years\",\n",
        "    \"6\": \"35-39 years\",\n",
        "    \"7\": \"40-44 years\",\n",
        "    \"8\": \"45-49 years\",\n",
        "    \"9\": \"50-54 years\",\n",
        "}\n",
        "\n",
        "maternal_morbidity = {\n",
        "    \"0\": \"Maternal Morbidity Reported\",\n",
        "    \"1\": \"No Maternal Morbidity Reported\",\n",
        "    \"9\": \"Unknown\",\n",
        "}  # 1 Means None reported\n",
        "\n",
        "complication_reported = {\"Y\": \"Yes\", \"N\": \"No\", \"U\": \"Unknown\"}\n",
        "\n",
        "\n",
        "def formatLine(line: str):\n",
        "    \"\"\"\n",
        "    Race, PrenatalVisists, mothers Age, Maternal Morbidity\n",
        "    \"\"\"\n",
        "    indices = {\n",
        "        \"race\": raceDictionary[line[107:109]],\n",
        "        \"prenatal_visits\": prenatalVisitsDictionary[line[241:243]],\n",
        "        \"mother_age\": mothersAgeDictionary[line[78:79]],\n",
        "        \"maternal_morbidity\": maternal_morbidity[line[426:427]],\n",
        "        \"maternal_transfusion\": complication_reported[line[414:415]]\n",
        "        + \" \"\n",
        "        + \"Transfusion\",\n",
        "        \"perineal_laceration\": complication_reported[line[415:416]]\n",
        "        + \" \"\n",
        "        + \"Perineal Laceration\",\n",
        "        \"ruptured_uterus\": complication_reported[line[416:417]]\n",
        "        + \" \"\n",
        "        + \"Ruptured Uterus\",\n",
        "        \"unplanned_hysterectomy\": complication_reported[line[417:418]]\n",
        "        + \" \"\n",
        "        + \"Unplanned Hysterectomy\",\n",
        "        \"admit_to_intensive_care\": complication_reported[line[418:419]]\n",
        "        + \" \"\n",
        "        + \"Intensive Care\",\n",
        "    }\n",
        "    return \", \".join(list(indices.values()))\n",
        "\n",
        "\n",
        "f = open(\"results2.txt\", \"a\")\n",
        "\n",
        "# natality2018file = open(\"Nat2018PublicUS.c20190509.r20190717.txt\", \"r\")\n",
        "\n",
        "# i = 1\n",
        "for line in natality2018file:\n",
        "    # if i >= 2:\n",
        "    #     break\n",
        "    f.write(formatLine(line))\n",
        "    f.write(\"\\n\")\n",
        "    # i += 1\n",
        "\n",
        "natality2018file.close()\n",
        "f.close()\n"
      ],
      "execution_count": null,
      "outputs": [
        {
          "output_type": "error",
          "ename": "NameError",
          "evalue": "ignored",
          "traceback": [
            "\u001b[0;31m---------------------------------------------------------------------------\u001b[0m",
            "\u001b[0;31mNameError\u001b[0m                                 Traceback (most recent call last)",
            "\u001b[0;32m<ipython-input-1-d1a1b55273c5>\u001b[0m in \u001b[0;36m<module>\u001b[0;34m()\u001b[0m\n\u001b[1;32m     88\u001b[0m \u001b[0;34m\u001b[0m\u001b[0m\n\u001b[1;32m     89\u001b[0m \u001b[0;31m# i = 1\u001b[0m\u001b[0;34m\u001b[0m\u001b[0;34m\u001b[0m\u001b[0;34m\u001b[0m\u001b[0m\n\u001b[0;32m---> 90\u001b[0;31m \u001b[0;32mfor\u001b[0m \u001b[0mline\u001b[0m \u001b[0;32min\u001b[0m \u001b[0mnatality2018file\u001b[0m\u001b[0;34m:\u001b[0m\u001b[0;34m\u001b[0m\u001b[0;34m\u001b[0m\u001b[0m\n\u001b[0m\u001b[1;32m     91\u001b[0m     \u001b[0;31m# if i >= 2:\u001b[0m\u001b[0;34m\u001b[0m\u001b[0;34m\u001b[0m\u001b[0;34m\u001b[0m\u001b[0m\n\u001b[1;32m     92\u001b[0m     \u001b[0;31m#     break\u001b[0m\u001b[0;34m\u001b[0m\u001b[0;34m\u001b[0m\u001b[0;34m\u001b[0m\u001b[0m\n",
            "\u001b[0;31mNameError\u001b[0m: name 'natality2018file' is not defined"
          ]
        }
      ]
    },
    {
      "cell_type": "code",
      "metadata": {
        "id": "DtuK6dbPWDwh"
      },
      "source": [
        "from google.colab import drive\n",
        "from sklearn import preprocessing\n",
        "import pandas as pd\n",
        "from sklearn.neighbors import KNeighborsClassifier\n",
        "from sklearn.ensemble import RandomForestClassifier\n",
        "from sklearn.naive_bayes import GaussianNB\n",
        "from sklearn.linear_model import LogisticRegression\n",
        "from sklearn import metrics\n",
        "from sklearn.model_selection import train_test_split \n",
        "import pickle\n",
        "import math\n"
      ],
      "execution_count": null,
      "outputs": []
    },
    {
      "cell_type": "code",
      "metadata": {
        "id": "s-BZ84mnjTeE",
        "colab": {
          "base_uri": "https://localhost:8080/",
          "height": 122
        },
        "outputId": "879d0609-d035-46f6-8264-20afb1814ce4"
      },
      "source": [
        "drive.mount('/drive')\n",
        "df = pd.read_csv('/drive/My Drive/first_round_results_encoded.csv')"
      ],
      "execution_count": null,
      "outputs": [
        {
          "output_type": "stream",
          "text": [
            "Go to this URL in a browser: https://accounts.google.com/o/oauth2/auth?client_id=947318989803-6bn6qk8qdgf4n4g3pfee6491hc0brc4i.apps.googleusercontent.com&redirect_uri=urn%3aietf%3awg%3aoauth%3a2.0%3aoob&response_type=code&scope=email%20https%3a%2f%2fwww.googleapis.com%2fauth%2fdocs.test%20https%3a%2f%2fwww.googleapis.com%2fauth%2fdrive%20https%3a%2f%2fwww.googleapis.com%2fauth%2fdrive.photos.readonly%20https%3a%2f%2fwww.googleapis.com%2fauth%2fpeopleapi.readonly\n",
            "\n",
            "Enter your authorization code:\n",
            "··········\n",
            "Mounted at /drive\n"
          ],
          "name": "stdout"
        }
      ]
    },
    {
      "cell_type": "code",
      "metadata": {
        "id": "hOPT6VE9V0d8"
      },
      "source": [
        "def createBalancedData(dataFrame, target, count):\n",
        "  balancedDF = pd.DataFrame()\n",
        "  for klass in dataFrame[target].unique():\n",
        "    # if 14 acocunts for 1/6th of the data, then don't include?\n",
        "    outlyerADf = dataFrame.loc[dataFrame['RACE_ENCODED'] == 14]\n",
        "    NormalizedOutlyerADf = outlyerADf.sample(n=math.ceil(count/3), replace=False)\n",
        "    outlyerBDf = dataFrame.loc[dataFrame['RACE_ENCODED'] == 2]\n",
        "    NormalizedOutlyerBDf = outlyerBDf.sample(n=math.ceil(count/3), replace=True)\n",
        "    distributedDf = dataFrame.loc[dataFrame['RACE_ENCODED'] != 14]\n",
        "    distributedDf = distributedDf.loc[dataFrame['RACE_ENCODED'] != 2]\n",
        "    df = distributedDf.loc[distributedDf[target] == klass]\n",
        "    dfRandom = df.sample(n=math.ceil(count/3 * 1), replace=True)\n",
        "    balancedDF = pd.concat([balancedDF, dfRandom, NormalizedOutlyerADf, NormalizedOutlyerBDf])\n",
        "  return balancedDF"
      ],
      "execution_count": null,
      "outputs": []
    },
    {
      "cell_type": "code",
      "metadata": {
        "id": "2iGxSkL7ghwu"
      },
      "source": [
        "balancedDF = createBalancedData(df, 'MATERNAL_TRANSFUSION_ENCODED', 200000)\n",
        "balancedDF.to_csv('/drive/My Drive/first_round_results_encoded_balanced5k.csv')"
      ],
      "execution_count": null,
      "outputs": []
    },
    {
      "cell_type": "code",
      "metadata": {
        "id": "Sh75qnXogEQy"
      },
      "source": [
        "X_train, X_test, y_train, y_test = train_test_split(balancedDF[['RACE_ENCODED', 'PRENATAL_VISITS_ENCODED', 'MOTHERS_AGE_ENCODED']], balancedDF[['MATERNAL_TRANSFUSION_ENCODED']], test_size=0.3)"
      ],
      "execution_count": null,
      "outputs": []
    },
    {
      "cell_type": "code",
      "metadata": {
        "id": "N5jCZUSY1Qzo",
        "colab": {
          "base_uri": "https://localhost:8080/",
          "height": 34
        },
        "outputId": "d131a2a5-fa84-4075-8ab5-ba975288f409"
      },
      "source": [
        "X_train.shape"
      ],
      "execution_count": null,
      "outputs": [
        {
          "output_type": "execute_result",
          "data": {
            "text/plain": [
              "(420002, 3)"
            ]
          },
          "metadata": {
            "tags": []
          },
          "execution_count": 16
        }
      ]
    },
    {
      "cell_type": "code",
      "metadata": {
        "id": "YDe4QZ6QknRw",
        "colab": {
          "base_uri": "https://localhost:8080/",
          "height": 282
        },
        "outputId": "d83834fe-e69c-417a-e4f9-5d66c71090ba"
      },
      "source": [
        "balancedDF.where(balancedDF['MATERNAL_TRANSFUSION_ENCODED'] == 2)['RACE_ENCODED'].hist()"
      ],
      "execution_count": null,
      "outputs": [
        {
          "output_type": "execute_result",
          "data": {
            "text/plain": [
              "<matplotlib.axes._subplots.AxesSubplot at 0x7f01f3f44eb8>"
            ]
          },
          "metadata": {
            "tags": []
          },
          "execution_count": 351
        },
        {
          "output_type": "display_data",
          "data": {
            "image/png": "[encoded data removed]",
            "text/plain": [
              "<Figure size 432x288 with 1 Axes>"
            ]
          },
          "metadata": {
            "tags": [],
            "needs_background": "light"
          }
        }
      ]
    },
    {
      "cell_type": "code",
      "metadata": {
        "id": "lhLdSWL7ovPo",
        "colab": {
          "base_uri": "https://localhost:8080/",
          "height": 282
        },
        "outputId": "787a949c-3dbe-4ef2-a444-898d88fb23a8"
      },
      "source": [
        "balancedDF.where(balancedDF['RUPTURED_UTERUS_ENCODED'] == 2)['RACE_ENCODED'].hist()"
      ],
      "execution_count": null,
      "outputs": [
        {
          "output_type": "execute_result",
          "data": {
            "text/plain": [
              "<matplotlib.axes._subplots.AxesSubplot at 0x7f01f39a3320>"
            ]
          },
          "metadata": {
            "tags": []
          },
          "execution_count": 352
        },
        {
          "output_type": "display_data",
          "data": {
            "image/png": "[encoded data removed]",
            "text/plain": [
              "<Figure size 432x288 with 1 Axes>"
            ]
          },
          "metadata": {
            "tags": [],
            "needs_background": "light"
          }
        }
      ]
    },
    {
      "cell_type": "code",
      "metadata": {
        "id": "C9Mxzxtjovcv",
        "colab": {
          "base_uri": "https://localhost:8080/",
          "height": 282
        },
        "outputId": "18e10c86-e72d-485f-f352-0fc820fa23ce"
      },
      "source": [
        "balancedDF.where(balancedDF['MOTHERS_AGE_ENCODED'] == 2)['RACE_ENCODED'].hist()"
      ],
      "execution_count": null,
      "outputs": [
        {
          "output_type": "execute_result",
          "data": {
            "text/plain": [
              "<matplotlib.axes._subplots.AxesSubplot at 0x7f01f4365fd0>"
            ]
          },
          "metadata": {
            "tags": []
          },
          "execution_count": 353
        },
        {
          "output_type": "display_data",
          "data": {
            "image/png": "[encoded data removed]",
            "text/plain": [
              "<Figure size 432x288 with 1 Axes>"
            ]
          },
          "metadata": {
            "tags": [],
            "needs_background": "light"
          }
        }
      ]
    },
    {
      "cell_type": "code",
      "metadata": {
        "id": "mzJR4X6_pIS-",
        "colab": {
          "base_uri": "https://localhost:8080/",
          "height": 282
        },
        "outputId": "000d8af9-1c60-4acd-9a28-feb1d8481417"
      },
      "source": [
        "balancedDF.where(balancedDF['PERINEAL_LACERATION_ENCODED'] == 2)['RACE_ENCODED'].hist()"
      ],
      "execution_count": null,
      "outputs": [
        {
          "output_type": "execute_result",
          "data": {
            "text/plain": [
              "<matplotlib.axes._subplots.AxesSubplot at 0x7f01f3c08d30>"
            ]
          },
          "metadata": {
            "tags": []
          },
          "execution_count": 355
        },
        {
          "output_type": "display_data",
          "data": {
            "image/png": "[encoded data removed]",
            "text/plain": [
              "<Figure size 432x288 with 1 Axes>"
            ]
          },
          "metadata": {
            "tags": [],
            "needs_background": "light"
          }
        }
      ]
    },
    {
      "cell_type": "code",
      "metadata": {
        "id": "C2NoKPk2qf-5",
        "colab": {
          "base_uri": "https://localhost:8080/",
          "height": 293
        },
        "outputId": "54e81480-0ace-4420-a19c-2978b4bca290"
      },
      "source": [
        "df['RACE_ENCODED'].hist()"
      ],
      "execution_count": null,
      "outputs": [
        {
          "output_type": "execute_result",
          "data": {
            "text/plain": [
              "<matplotlib.axes._subplots.AxesSubplot at 0x7fcd051dfef0>"
            ]
          },
          "metadata": {
            "tags": []
          },
          "execution_count": 95
        },
        {
          "output_type": "display_data",
          "data": {
            "image/png": "[encoded data removed]",
            "text/plain": [
              "<Figure size 432x288 with 1 Axes>"
            ]
          },
          "metadata": {
            "tags": [],
            "needs_background": "light"
          }
        }
      ]
    },
    {
      "cell_type": "code",
      "metadata": {
        "id": "Kl5PfjOspIbb",
        "colab": {
          "base_uri": "https://localhost:8080/",
          "height": 282
        },
        "outputId": "4f1878c2-8f31-44cc-cc16-9753ab5417ef"
      },
      "source": [
        "balancedDF.where(balancedDF['UNPLANNED_HYSTERECTOMY_ENCODED'] == 0)['RACE_ENCODED'].hist()"
      ],
      "execution_count": null,
      "outputs": [
        {
          "output_type": "execute_result",
          "data": {
            "text/plain": [
              "<matplotlib.axes._subplots.AxesSubplot at 0x7fcd052fdef0>"
            ]
          },
          "metadata": {
            "tags": []
          },
          "execution_count": 89
        },
        {
          "output_type": "display_data",
          "data": {
            "image/png": "[encoded data removed]",
            "text/plain": [
              "<Figure size 432x288 with 1 Axes>"
            ]
          },
          "metadata": {
            "tags": [],
            "needs_background": "light"
          }
        }
      ]
    },
    {
      "cell_type": "code",
      "metadata": {
        "id": "oxTTESEbpa7J",
        "colab": {
          "base_uri": "https://localhost:8080/",
          "height": 282
        },
        "outputId": "0b658511-f563-4c81-cbbf-cc1cd2a63fd8"
      },
      "source": [
        "balancedDF.where(balancedDF['INTENSIVE_CARE_ENCODED'] == 2)['RACE_ENCODED'].hist()"
      ],
      "execution_count": null,
      "outputs": [
        {
          "output_type": "execute_result",
          "data": {
            "text/plain": [
              "<matplotlib.axes._subplots.AxesSubplot at 0x7fcd054bb5c0>"
            ]
          },
          "metadata": {
            "tags": []
          },
          "execution_count": 86
        },
        {
          "output_type": "display_data",
          "data": {
            "image/png": "[encoded data removed]",
            "text/plain": [
              "<Figure size 432x288 with 1 Axes>"
            ]
          },
          "metadata": {
            "tags": [],
            "needs_background": "light"
          }
        }
      ]
    },
    {
      "cell_type": "code",
      "metadata": {
        "id": "o5RD1hfIe838",
        "colab": {
          "base_uri": "https://localhost:8080/",
          "height": 122
        },
        "outputId": "9e039922-8265-4594-aebf-a6b82a47523b"
      },
      "source": [
        "model = KNeighborsClassifier(n_neighbors=3)\n",
        "model.fit(X_train, y_train)"
      ],
      "execution_count": null,
      "outputs": [
        {
          "output_type": "stream",
          "text": [
            "/usr/local/lib/python3.6/dist-packages/ipykernel_launcher.py:2: DataConversionWarning: A column-vector y was passed when a 1d array was expected. Please change the shape of y to (n_samples, ), for example using ravel().\n",
            "  \n"
          ],
          "name": "stderr"
        },
        {
          "output_type": "execute_result",
          "data": {
            "text/plain": [
              "KNeighborsClassifier(algorithm='auto', leaf_size=30, metric='minkowski',\n",
              "                     metric_params=None, n_jobs=None, n_neighbors=3, p=2,\n",
              "                     weights='uniform')"
            ]
          },
          "metadata": {
            "tags": []
          },
          "execution_count": 343
        }
      ]
    },
    {
      "cell_type": "code",
      "metadata": {
        "id": "RBvQ_5U8i0Bx",
        "colab": {
          "base_uri": "https://localhost:8080/",
          "height": 207
        },
        "outputId": "9e681017-13ec-4fc2-aff9-bf5eb2e104c3"
      },
      "source": [
        "randomForestModel = RandomForestClassifier(n_estimators=100, random_state=0, max_depth=3)\n",
        "randomForestModel.fit(X_train, y_train)"
      ],
      "execution_count": null,
      "outputs": [
        {
          "output_type": "stream",
          "text": [
            "/usr/local/lib/python3.6/dist-packages/ipykernel_launcher.py:2: DataConversionWarning: A column-vector y was passed when a 1d array was expected. Please change the shape of y to (n_samples,), for example using ravel().\n",
            "  \n"
          ],
          "name": "stderr"
        },
        {
          "output_type": "execute_result",
          "data": {
            "text/plain": [
              "RandomForestClassifier(bootstrap=True, ccp_alpha=0.0, class_weight=None,\n",
              "                       criterion='gini', max_depth=3, max_features='auto',\n",
              "                       max_leaf_nodes=None, max_samples=None,\n",
              "                       min_impurity_decrease=0.0, min_impurity_split=None,\n",
              "                       min_samples_leaf=1, min_samples_split=2,\n",
              "                       min_weight_fraction_leaf=0.0, n_estimators=100,\n",
              "                       n_jobs=None, oob_score=False, random_state=0, verbose=0,\n",
              "                       warm_start=False)"
            ]
          },
          "metadata": {
            "tags": []
          },
          "execution_count": 344
        }
      ]
    },
    {
      "cell_type": "code",
      "metadata": {
        "id": "xOkfVw70CG9w",
        "colab": {
          "base_uri": "https://localhost:8080/",
          "height": 88
        },
        "outputId": "bdf50350-9515-48de-a82a-74566a8ff1fd"
      },
      "source": [
        "bayes_model = GaussianNB()\n",
        "bayes_model.fit(X_train,y_train)"
      ],
      "execution_count": null,
      "outputs": [
        {
          "output_type": "stream",
          "text": [
            "/usr/local/lib/python3.6/dist-packages/sklearn/naive_bayes.py:206: DataConversionWarning: A column-vector y was passed when a 1d array was expected. Please change the shape of y to (n_samples, ), for example using ravel().\n",
            "  y = column_or_1d(y, warn=True)\n"
          ],
          "name": "stderr"
        },
        {
          "output_type": "execute_result",
          "data": {
            "text/plain": [
              "GaussianNB(priors=None, var_smoothing=1e-09)"
            ]
          },
          "metadata": {
            "tags": []
          },
          "execution_count": 345
        }
      ]
    },
    {
      "cell_type": "code",
      "metadata": {
        "id": "lDmdx7YFNkLd",
        "colab": {
          "base_uri": "https://localhost:8080/",
          "height": 34
        },
        "outputId": "e2fac21a-3024-4b61-dc37-245ca43219b6"
      },
      "source": [
        "y_pred = model.predict(X_test)\n",
        "metrics.accuracy_score(y_test, y_pred)"
      ],
      "execution_count": null,
      "outputs": [
        {
          "output_type": "execute_result",
          "data": {
            "text/plain": [
              "0.8400231109827168"
            ]
          },
          "metadata": {
            "tags": []
          },
          "execution_count": 346
        }
      ]
    },
    {
      "cell_type": "code",
      "metadata": {
        "id": "Jqwt47rOjB0c",
        "colab": {
          "base_uri": "https://localhost:8080/",
          "height": 34
        },
        "outputId": "c14774cd-d02c-4d70-8cab-4f2a46025589"
      },
      "source": [
        "randomForestPred = randomForestModel.predict(X_test)\n",
        "metrics.accuracy_score(y_test, randomForestPred)"
      ],
      "execution_count": null,
      "outputs": [
        {
          "output_type": "execute_result",
          "data": {
            "text/plain": [
              "0.8021955433580924"
            ]
          },
          "metadata": {
            "tags": []
          },
          "execution_count": 347
        }
      ]
    },
    {
      "cell_type": "code",
      "metadata": {
        "id": "ap2TxK2VCRX_",
        "colab": {
          "base_uri": "https://localhost:8080/",
          "height": 34
        },
        "outputId": "90da4add-a7d2-4582-daa3-99d87e1ff8c3"
      },
      "source": [
        "naiveBayesPred = bayes_model.predict(X_test)\n",
        "metrics.accuracy_score(y_test, naiveBayesPred)"
      ],
      "execution_count": null,
      "outputs": [
        {
          "output_type": "execute_result",
          "data": {
            "text/plain": [
              "0.7726012633263148"
            ]
          },
          "metadata": {
            "tags": []
          },
          "execution_count": 348
        }
      ]
    },
    {
      "cell_type": "code",
      "metadata": {
        "id": "DMrOsuUxkyGa"
      },
      "source": [
        "# This stores it in the local files in the side panel\n",
        "with open('maternal_transfusion.pkl', 'wb') as model_file:\n",
        "  pickle.dump(model, model_file)"
      ],
      "execution_count": null,
      "outputs": []
    },
    {
      "cell_type": "code",
      "metadata": {
        "id": "wVFbB_0wJVQv"
      },
      "source": [
        "le = preprocessing.LabelEncoder()\n",
        "balancedDF['CONDITION_ENCODED'] = le.fit_transform(balancedDF['CONDITION'])"
      ],
      "execution_count": null,
      "outputs": []
    },
    {
      "cell_type": "code",
      "metadata": {
        "id": "GFM7vu14dB7G"
      },
      "source": [
        "\n",
        "\n",
        "le = preprocessing.LabelEncoder()\n",
        "for key in df.keys():\n",
        "  df[key.strip() +'_ENCODED'] = le.fit_transform(df[key])\n",
        "df.to_csv('/drive/My Drive/first_round_results_encoded.csv')\n",
        "\n",
        "# df['RACE_ENCODED'] = le.fit_transform(df['RACE'])\n",
        "# df['PRENATAL_VISITS_ENCODED'] = le.fit_transform(df[' PRENATAL_VISITS'])\n",
        "# df['MOTHERS_AGE_ENCODED'] = le.fit_transform(df[' MOTHERS_AGE'])\n",
        "# df['MATERNAL_TRANSFUSION_ENCODED'] = le.fit_transform(df[' MATERNAL_TRANSFUSION'])"
      ],
      "execution_count": null,
      "outputs": []
    }
  ]
}